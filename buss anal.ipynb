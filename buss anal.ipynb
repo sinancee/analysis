{
 "cells": [
  {
   "cell_type": "code",
   "execution_count": 1,
   "id": "879ae591-413e-4aa6-b447-d93e7e5a5a79",
   "metadata": {},
   "outputs": [
    {
     "name": "stdout",
     "output_type": "stream",
     "text": [
      "Requirement already satisfied: pandas in c:\\users\\dell\\anaconda3\\lib\\site-packages (2.2.2)\n",
      "Requirement already satisfied: numpy in c:\\users\\dell\\anaconda3\\lib\\site-packages (1.26.4)\n",
      "Requirement already satisfied: matplotlib in c:\\users\\dell\\anaconda3\\lib\\site-packages (3.9.2)\n",
      "Requirement already satisfied: seaborn in c:\\users\\dell\\anaconda3\\lib\\site-packages (0.13.2)\n",
      "Requirement already satisfied: scipy in c:\\users\\dell\\anaconda3\\lib\\site-packages (1.13.1)\n",
      "Requirement already satisfied: python-dateutil>=2.8.2 in c:\\users\\dell\\anaconda3\\lib\\site-packages (from pandas) (2.9.0.post0)\n",
      "Requirement already satisfied: pytz>=2020.1 in c:\\users\\dell\\anaconda3\\lib\\site-packages (from pandas) (2024.1)\n",
      "Requirement already satisfied: tzdata>=2022.7 in c:\\users\\dell\\anaconda3\\lib\\site-packages (from pandas) (2023.3)\n",
      "Requirement already satisfied: contourpy>=1.0.1 in c:\\users\\dell\\anaconda3\\lib\\site-packages (from matplotlib) (1.2.0)\n",
      "Requirement already satisfied: cycler>=0.10 in c:\\users\\dell\\anaconda3\\lib\\site-packages (from matplotlib) (0.11.0)\n",
      "Requirement already satisfied: fonttools>=4.22.0 in c:\\users\\dell\\anaconda3\\lib\\site-packages (from matplotlib) (4.51.0)\n",
      "Requirement already satisfied: kiwisolver>=1.3.1 in c:\\users\\dell\\anaconda3\\lib\\site-packages (from matplotlib) (1.4.4)\n",
      "Requirement already satisfied: packaging>=20.0 in c:\\users\\dell\\anaconda3\\lib\\site-packages (from matplotlib) (24.1)\n",
      "Requirement already satisfied: pillow>=8 in c:\\users\\dell\\anaconda3\\lib\\site-packages (from matplotlib) (10.4.0)\n",
      "Requirement already satisfied: pyparsing>=2.3.1 in c:\\users\\dell\\anaconda3\\lib\\site-packages (from matplotlib) (3.1.2)\n",
      "Requirement already satisfied: six>=1.5 in c:\\users\\dell\\anaconda3\\lib\\site-packages (from python-dateutil>=2.8.2->pandas) (1.16.0)\n",
      "Note: you may need to restart the kernel to use updated packages.\n"
     ]
    }
   ],
   "source": [
    "pip install pandas numpy matplotlib seaborn scipy"
   ]
  },
  {
   "cell_type": "code",
   "execution_count": 1,
   "id": "b11f8d86-aff6-4a5b-ba70-1c14a4eb5d91",
   "metadata": {},
   "outputs": [],
   "source": [
    "import pandas as pd\n",
    "import numpy as np\n",
    "import matplotlib.pyplot as plt\n",
    "import seaborn as sns\n",
    "from scipy import stats"
   ]
  },
  {
   "cell_type": "code",
   "execution_count": null,
   "id": "63d8bab1-fcc1-421f-84c2-a62acce6d035",
   "metadata": {},
   "outputs": [],
   "source": []
  },
  {
   "cell_type": "code",
   "execution_count": 5,
   "id": "6eacfc25-4399-415a-9972-99661808501c",
   "metadata": {},
   "outputs": [
    {
     "name": "stdout",
     "output_type": "stream",
     "text": [
      "Requirement already satisfied: seaborn in c:\\users\\dell\\anaconda3\\lib\\site-packages (0.13.2)\n",
      "Requirement already satisfied: numpy!=1.24.0,>=1.20 in c:\\users\\dell\\anaconda3\\lib\\site-packages (from seaborn) (1.26.4)\n",
      "Requirement already satisfied: pandas>=1.2 in c:\\users\\dell\\anaconda3\\lib\\site-packages (from seaborn) (2.2.2)\n",
      "Requirement already satisfied: matplotlib!=3.6.1,>=3.4 in c:\\users\\dell\\anaconda3\\lib\\site-packages (from seaborn) (3.9.2)\n",
      "Requirement already satisfied: contourpy>=1.0.1 in c:\\users\\dell\\anaconda3\\lib\\site-packages (from matplotlib!=3.6.1,>=3.4->seaborn) (1.2.0)\n",
      "Requirement already satisfied: cycler>=0.10 in c:\\users\\dell\\anaconda3\\lib\\site-packages (from matplotlib!=3.6.1,>=3.4->seaborn) (0.11.0)\n",
      "Requirement already satisfied: fonttools>=4.22.0 in c:\\users\\dell\\anaconda3\\lib\\site-packages (from matplotlib!=3.6.1,>=3.4->seaborn) (4.51.0)\n",
      "Requirement already satisfied: kiwisolver>=1.3.1 in c:\\users\\dell\\anaconda3\\lib\\site-packages (from matplotlib!=3.6.1,>=3.4->seaborn) (1.4.4)\n",
      "Requirement already satisfied: packaging>=20.0 in c:\\users\\dell\\anaconda3\\lib\\site-packages (from matplotlib!=3.6.1,>=3.4->seaborn) (24.1)\n",
      "Requirement already satisfied: pillow>=8 in c:\\users\\dell\\anaconda3\\lib\\site-packages (from matplotlib!=3.6.1,>=3.4->seaborn) (10.4.0)\n",
      "Requirement already satisfied: pyparsing>=2.3.1 in c:\\users\\dell\\anaconda3\\lib\\site-packages (from matplotlib!=3.6.1,>=3.4->seaborn) (3.1.2)\n",
      "Requirement already satisfied: python-dateutil>=2.7 in c:\\users\\dell\\anaconda3\\lib\\site-packages (from matplotlib!=3.6.1,>=3.4->seaborn) (2.9.0.post0)\n",
      "Requirement already satisfied: pytz>=2020.1 in c:\\users\\dell\\anaconda3\\lib\\site-packages (from pandas>=1.2->seaborn) (2024.1)\n",
      "Requirement already satisfied: tzdata>=2022.7 in c:\\users\\dell\\anaconda3\\lib\\site-packages (from pandas>=1.2->seaborn) (2023.3)\n",
      "Requirement already satisfied: six>=1.5 in c:\\users\\dell\\anaconda3\\lib\\site-packages (from python-dateutil>=2.7->matplotlib!=3.6.1,>=3.4->seaborn) (1.16.0)\n",
      "Note: you may need to restart the kernel to use updated packages.\n"
     ]
    }
   ],
   "source": [
    "pip install seaborn\n"
   ]
  },
  {
   "cell_type": "code",
   "execution_count": 1,
   "id": "86aaf2bb-ade5-46e6-934f-878dd638e76d",
   "metadata": {},
   "outputs": [
    {
     "name": "stdout",
     "output_type": "stream",
     "text": [
      "['Solarize_Light2', '_classic_test_patch', '_mpl-gallery', '_mpl-gallery-nogrid', 'bmh', 'classic', 'dark_background', 'fast', 'fivethirtyeight', 'ggplot', 'grayscale', 'seaborn-v0_8', 'seaborn-v0_8-bright', 'seaborn-v0_8-colorblind', 'seaborn-v0_8-dark', 'seaborn-v0_8-dark-palette', 'seaborn-v0_8-darkgrid', 'seaborn-v0_8-deep', 'seaborn-v0_8-muted', 'seaborn-v0_8-notebook', 'seaborn-v0_8-paper', 'seaborn-v0_8-pastel', 'seaborn-v0_8-poster', 'seaborn-v0_8-talk', 'seaborn-v0_8-ticks', 'seaborn-v0_8-white', 'seaborn-v0_8-whitegrid', 'tableau-colorblind10']\n"
     ]
    }
   ],
   "source": [
    "import matplotlib.pyplot as plt\n",
    "print(plt.style.available)\n"
   ]
  },
  {
   "cell_type": "code",
   "execution_count": 3,
   "id": "0856cff7-ea70-4397-a854-21d14a197b86",
   "metadata": {},
   "outputs": [],
   "source": [
    "import seaborn as sns\n",
    "import matplotlib.pyplot as plt\n",
    "\n",
    "sns.set(style=\"whitegrid\")  # Use Seaborn's built-in style\n"
   ]
  },
  {
   "cell_type": "code",
   "execution_count": 7,
   "id": "f97245cb-071f-4f18-84da-b7998ab4b75b",
   "metadata": {},
   "outputs": [],
   "source": [
    "import seaborn as sns\n",
    "import matplotlib.pyplot as plt\n",
    "\n",
    "# Set seaborn style directly using Seaborn\n",
    "sns.set(style=\"whitegrid\")  # This sets Seaborn's built-in style\n"
   ]
  },
  {
   "cell_type": "code",
   "execution_count": 9,
   "id": "ffcdf0a1-6e64-4a37-b60c-3c04acc82460",
   "metadata": {},
   "outputs": [
    {
     "name": "stdout",
     "output_type": "stream",
     "text": [
      "Note: you may need to restart the kernel to use updated packages.Requirement already satisfied: seaborn in c:\\users\\dell\\anaconda3\\lib\\site-packages (0.13.2)\n",
      "Requirement already satisfied: matplotlib in c:\\users\\dell\\anaconda3\\lib\\site-packages (3.9.2)\n",
      "Collecting matplotlib\n",
      "  Downloading matplotlib-3.10.0-cp312-cp312-win_amd64.whl.metadata (11 kB)\n",
      "Requirement already satisfied: numpy!=1.24.0,>=1.20 in c:\\users\\dell\\anaconda3\\lib\\site-packages (from seaborn) (1.26.4)\n",
      "Requirement already satisfied: pandas>=1.2 in c:\\users\\dell\\anaconda3\\lib\\site-packages (from seaborn) (2.2.2)\n",
      "Requirement already satisfied: contourpy>=1.0.1 in c:\\users\\dell\\anaconda3\\lib\\site-packages (from matplotlib) (1.2.0)\n",
      "Requirement already satisfied: cycler>=0.10 in c:\\users\\dell\\anaconda3\\lib\\site-packages (from matplotlib) (0.11.0)\n",
      "Requirement already satisfied: fonttools>=4.22.0 in c:\\users\\dell\\anaconda3\\lib\\site-packages (from matplotlib) (4.51.0)\n",
      "Requirement already satisfied: kiwisolver>=1.3.1 in c:\\users\\dell\\anaconda3\\lib\\site-packages (from matplotlib) (1.4.4)\n",
      "Requirement already satisfied: packaging>=20.0 in c:\\users\\dell\\anaconda3\\lib\\site-packages (from matplotlib) (24.1)\n",
      "Requirement already satisfied: pillow>=8 in c:\\users\\dell\\anaconda3\\lib\\site-packages (from matplotlib) (10.4.0)\n",
      "Requirement already satisfied: pyparsing>=2.3.1 in c:\\users\\dell\\anaconda3\\lib\\site-packages (from matplotlib) (3.1.2)\n",
      "Requirement already satisfied: python-dateutil>=2.7 in c:\\users\\dell\\anaconda3\\lib\\site-packages (from matplotlib) (2.9.0.post0)\n",
      "Requirement already satisfied: pytz>=2020.1 in c:\\users\\dell\\anaconda3\\lib\\site-packages (from pandas>=1.2->seaborn) (2024.1)\n",
      "Requirement already satisfied: tzdata>=2022.7 in c:\\users\\dell\\anaconda3\\lib\\site-packages (from pandas>=1.2->seaborn) (2023.3)\n",
      "Requirement already satisfied: six>=1.5 in c:\\users\\dell\\anaconda3\\lib\\site-packages (from python-dateutil>=2.7->matplotlib) (1.16.0)\n",
      "Downloading matplotlib-3.10.0-cp312-cp312-win_amd64.whl (8.0 MB)\n",
      "   ---------------------------------------- 0.0/8.0 MB ? eta -:--:--\n",
      "   ---------------------------------------- 0.0/8.0 MB ? eta -:--:--\n",
      "   ---------------------------------------- 0.0/8.0 MB ? eta -:--:--\n",
      "   - -------------------------------------- 0.3/8.0 MB ? eta -:--:--\n",
      "   - -------------------------------------- 0.3/8.0 MB ? eta -:--:--\n",
      "   - -------------------------------------- 0.3/8.0 MB ? eta -:--:--\n",
      "   -- ------------------------------------- 0.5/8.0 MB 560.1 kB/s eta 0:00:14\n",
      "   -- ------------------------------------- 0.5/8.0 MB 560.1 kB/s eta 0:00:14\n",
      "   -- ------------------------------------- 0.5/8.0 MB 560.1 kB/s eta 0:00:14\n",
      "   -- ------------------------------------- 0.5/8.0 MB 560.1 kB/s eta 0:00:14\n",
      "   --- ------------------------------------ 0.8/8.0 MB 394.8 kB/s eta 0:00:19\n",
      "   ----- ---------------------------------- 1.0/8.0 MB 503.5 kB/s eta 0:00:14\n",
      "   ------- -------------------------------- 1.6/8.0 MB 682.3 kB/s eta 0:00:10\n",
      "   ------- -------------------------------- 1.6/8.0 MB 682.3 kB/s eta 0:00:10\n",
      "   --------- ------------------------------ 1.8/8.0 MB 724.5 kB/s eta 0:00:09\n",
      "   --------- ------------------------------ 1.8/8.0 MB 724.5 kB/s eta 0:00:09\n",
      "   ---------- ----------------------------- 2.1/8.0 MB 678.9 kB/s eta 0:00:09\n",
      "   ---------- ----------------------------- 2.1/8.0 MB 678.9 kB/s eta 0:00:09\n",
      "   ----------- ---------------------------- 2.4/8.0 MB 674.5 kB/s eta 0:00:09\n",
      "   ------------- -------------------------- 2.6/8.0 MB 702.4 kB/s eta 0:00:08\n",
      "   -------------- ------------------------- 2.9/8.0 MB 732.7 kB/s eta 0:00:08\n",
      "   --------------- ------------------------ 3.1/8.0 MB 762.7 kB/s eta 0:00:07\n",
      "   ---------------- ----------------------- 3.4/8.0 MB 786.4 kB/s eta 0:00:06\n",
      "   ------------------ --------------------- 3.7/8.0 MB 810.8 kB/s eta 0:00:06\n",
      "   ------------------- -------------------- 3.9/8.0 MB 827.1 kB/s eta 0:00:05\n",
      "   ------------------- -------------------- 3.9/8.0 MB 827.1 kB/s eta 0:00:05\n",
      "   -------------------- ------------------- 4.2/8.0 MB 841.8 kB/s eta 0:00:05\n",
      "   ---------------------- ----------------- 4.5/8.0 MB 857.7 kB/s eta 0:00:05\n",
      "   ----------------------- ---------------- 4.7/8.0 MB 872.3 kB/s eta 0:00:04\n",
      "   ------------------------ --------------- 5.0/8.0 MB 883.1 kB/s eta 0:00:04\n",
      "   -------------------------- ------------- 5.2/8.0 MB 883.1 kB/s eta 0:00:04\n",
      "   --------------------------- ------------ 5.5/8.0 MB 890.1 kB/s eta 0:00:03\n",
      "   ---------------------------- ----------- 5.8/8.0 MB 901.1 kB/s eta 0:00:03\n",
      "   ---------------------------- ----------- 5.8/8.0 MB 901.1 kB/s eta 0:00:03\n",
      "   ----------------------------- ---------- 6.0/8.0 MB 909.2 kB/s eta 0:00:03\n",
      "   ------------------------------- -------- 6.3/8.0 MB 916.6 kB/s eta 0:00:02\n",
      "   -------------------------------- ------- 6.6/8.0 MB 919.4 kB/s eta 0:00:02\n",
      "   --------------------------------- ------ 6.8/8.0 MB 924.0 kB/s eta 0:00:02\n",
      "   ----------------------------------- ---- 7.1/8.0 MB 936.1 kB/s eta 0:00:02\n",
      "   ------------------------------------- -- 7.6/8.0 MB 970.6 kB/s eta 0:00:01\n",
      "   ---------------------------------------- 8.0/8.0 MB 1.0 MB/s eta 0:00:00\n",
      "Installing collected packages: matplotlib\n",
      "  Attempting uninstall: matplotlib\n",
      "    Found existing installation: matplotlib 3.9.2\n",
      "    Uninstalling matplotlib-3.9.2:\n",
      "      Successfully uninstalled matplotlib-3.9.2\n",
      "Successfully installed matplotlib-3.10.0\n",
      "\n"
     ]
    },
    {
     "name": "stderr",
     "output_type": "stream",
     "text": [
      "WARNING: Retrying (Retry(total=4, connect=None, read=None, redirect=None, status=None)) after connection broken by 'ReadTimeoutError(\"HTTPSConnectionPool(host='pypi.org', port=443): Read timed out. (read timeout=15)\")': /simple/seaborn/\n"
     ]
    }
   ],
   "source": [
    "pip install seaborn matplotlib --upgrade\n"
   ]
  },
  {
   "cell_type": "code",
   "execution_count": 1,
   "id": "a103dbcf-d8dd-4850-a5d2-856483a8f327",
   "metadata": {},
   "outputs": [],
   "source": [
    "import matplotlib.pyplot as plt\n",
    "\n",
    "# Set one of matplotlib's built-in styles\n",
    "plt.style.use('ggplot')  # Other options: 'seaborn', 'fivethirtyeight', etc.\n"
   ]
  },
  {
   "cell_type": "code",
   "execution_count": 3,
   "id": "95384d22-d19a-46d5-93cb-3e59e696ca15",
   "metadata": {},
   "outputs": [
    {
     "name": "stdout",
     "output_type": "stream",
     "text": [
      "['Solarize_Light2', '_classic_test_patch', '_mpl-gallery', '_mpl-gallery-nogrid', 'bmh', 'classic', 'dark_background', 'fast', 'fivethirtyeight', 'ggplot', 'grayscale', 'petroff10', 'seaborn-v0_8', 'seaborn-v0_8-bright', 'seaborn-v0_8-colorblind', 'seaborn-v0_8-dark', 'seaborn-v0_8-dark-palette', 'seaborn-v0_8-darkgrid', 'seaborn-v0_8-deep', 'seaborn-v0_8-muted', 'seaborn-v0_8-notebook', 'seaborn-v0_8-paper', 'seaborn-v0_8-pastel', 'seaborn-v0_8-poster', 'seaborn-v0_8-talk', 'seaborn-v0_8-ticks', 'seaborn-v0_8-white', 'seaborn-v0_8-whitegrid', 'tableau-colorblind10']\n"
     ]
    }
   ],
   "source": [
    "import matplotlib.pyplot as plt\n",
    "print(plt.style.available)\n"
   ]
  },
  {
   "cell_type": "code",
   "execution_count": 7,
   "id": "b2f7e85d-217d-4379-a6fe-42b9e912e531",
   "metadata": {},
   "outputs": [],
   "source": [
    "import seaborn as sns\n",
    "import matplotlib.pyplot as plt\n",
    "\n",
    "# Set Seaborn style directly using seaborn.set()\n",
    "sns.set(style=\"whitegrid\")  # You can change \"whitegrid\" to other options like \"darkgrid\"\n"
   ]
  },
  {
   "cell_type": "code",
   "execution_count": 9,
   "id": "3844d403-fc19-4a2e-97e3-165083d33b1a",
   "metadata": {},
   "outputs": [],
   "source": [
    "import matplotlib.pyplot as plt\n",
    "\n",
    "# Use one of matplotlib's built-in styles\n",
    "plt.style.use('ggplot')\n"
   ]
  },
  {
   "cell_type": "code",
   "execution_count": 11,
   "id": "a84eb46c-bed1-436a-90c5-fc6e0e0f3cbe",
   "metadata": {},
   "outputs": [
    {
     "name": "stdout",
     "output_type": "stream",
     "text": [
      "Requirement already satisfied: seaborn in c:\\users\\dell\\anaconda3\\lib\\site-packages (0.13.2)Note: you may need to restart the kernel to use updated packages.\n",
      "\n",
      "Requirement already satisfied: matplotlib in c:\\users\\dell\\anaconda3\\lib\\site-packages (3.10.0)\n",
      "Requirement already satisfied: numpy!=1.24.0,>=1.20 in c:\\users\\dell\\anaconda3\\lib\\site-packages (from seaborn) (1.26.4)\n",
      "Requirement already satisfied: pandas>=1.2 in c:\\users\\dell\\anaconda3\\lib\\site-packages (from seaborn) (2.2.2)\n",
      "Requirement already satisfied: contourpy>=1.0.1 in c:\\users\\dell\\anaconda3\\lib\\site-packages (from matplotlib) (1.2.0)\n",
      "Requirement already satisfied: cycler>=0.10 in c:\\users\\dell\\anaconda3\\lib\\site-packages (from matplotlib) (0.11.0)\n",
      "Requirement already satisfied: fonttools>=4.22.0 in c:\\users\\dell\\anaconda3\\lib\\site-packages (from matplotlib) (4.51.0)\n",
      "Requirement already satisfied: kiwisolver>=1.3.1 in c:\\users\\dell\\anaconda3\\lib\\site-packages (from matplotlib) (1.4.4)\n",
      "Requirement already satisfied: packaging>=20.0 in c:\\users\\dell\\anaconda3\\lib\\site-packages (from matplotlib) (24.1)\n",
      "Requirement already satisfied: pillow>=8 in c:\\users\\dell\\anaconda3\\lib\\site-packages (from matplotlib) (10.4.0)\n",
      "Requirement already satisfied: pyparsing>=2.3.1 in c:\\users\\dell\\anaconda3\\lib\\site-packages (from matplotlib) (3.1.2)\n",
      "Requirement already satisfied: python-dateutil>=2.7 in c:\\users\\dell\\anaconda3\\lib\\site-packages (from matplotlib) (2.9.0.post0)\n",
      "Requirement already satisfied: pytz>=2020.1 in c:\\users\\dell\\anaconda3\\lib\\site-packages (from pandas>=1.2->seaborn) (2024.1)\n",
      "Requirement already satisfied: tzdata>=2022.7 in c:\\users\\dell\\anaconda3\\lib\\site-packages (from pandas>=1.2->seaborn) (2023.3)\n",
      "Requirement already satisfied: six>=1.5 in c:\\users\\dell\\anaconda3\\lib\\site-packages (from python-dateutil>=2.7->matplotlib) (1.16.0)\n"
     ]
    }
   ],
   "source": [
    "pip install --upgrade seaborn matplotlib\n"
   ]
  },
  {
   "cell_type": "code",
   "execution_count": 3,
   "id": "00c33a20-4b3d-4c11-b0ce-c07262d6f335",
   "metadata": {},
   "outputs": [
    {
     "data": {
      "image/png": "[encoded data removed]",
      "text/plain": [
       "<Figure size 640x480 with 1 Axes>"
      ]
     },
     "metadata": {},
     "output_type": "display_data"
    }
   ],
   "source": [
    "import matplotlib.pyplot as plt\n",
    "import seaborn as sns\n",
    "\n",
    "# Set Seaborn style using Seaborn's own method\n",
    "sns.set(style=\"whitegrid\")  # You can change \"whitegrid\" to other styles like \"darkgrid\"\n",
    "sns.set_palette(\"husl\")  # Set a color palette\n",
    "\n",
    "# Now you can create your plots\n",
    "plt.plot([1, 2, 3], [1, 4, 9])  # Example plot\n",
    "plt.show()  # Display the plot\n"
   ]
  },
  {
   "cell_type": "code",
   "execution_count": 12,
   "id": "53c6bb32-cea6-4ae3-84bd-f184a80a6093",
   "metadata": {},
   "outputs": [],
   "source": [
    "df = pd.read_csv('C:/Users/DELL/Downloads/ba.csv')\n"
   ]
  },
  {
   "cell_type": "code",
   "execution_count": null,
   "id": "5b3653b1-9aef-46da-bd3e-e88a61363348",
   "metadata": {},
   "outputs": [],
   "source": []
  },
  {
   "cell_type": "code",
   "execution_count": 18,
   "id": "36696c5a-533b-440a-a5c3-1066e0b20479",
   "metadata": {},
   "outputs": [
    {
     "name": "stdout",
     "output_type": "stream",
     "text": [
      "              Name            Team  Number Position  Age  Height  Weight  \\\n",
      "0    Avery Bradley  Boston Celtics       0       PG   25  06-Feb     180   \n",
      "1      Jae Crowder  Boston Celtics      99       SF   25  06-Jun     235   \n",
      "2     John Holland  Boston Celtics      30       SG   27  06-May     205   \n",
      "3      R.J. Hunter  Boston Celtics      28       SG   22  06-May     185   \n",
      "4    Jonas Jerebko  Boston Celtics       8       PF   29  06-Oct     231   \n",
      "..             ...             ...     ...      ...  ...     ...     ...   \n",
      "453   Shelvin Mack       Utah Jazz       8       PG   26  06-Mar     203   \n",
      "454      Raul Neto       Utah Jazz      25       PG   24  06-Jan     179   \n",
      "455   Tibor Pleiss       Utah Jazz      21        C   26  07-Mar     256   \n",
      "456    Jeff Withey       Utah Jazz      24        C   26     7-0     231   \n",
      "457       Priyanka       Utah Jazz      34        C   25  07-Mar     231   \n",
      "\n",
      "               College     Salary  height_inches  height_cm  \n",
      "0                Texas  7730337.0            NaN        NaN  \n",
      "1            Marquette  6796117.0            NaN        NaN  \n",
      "2    Boston University        NaN            NaN        NaN  \n",
      "3        Georgia State  1148640.0            NaN        NaN  \n",
      "4                  NaN  5000000.0            NaN        NaN  \n",
      "..                 ...        ...            ...        ...  \n",
      "453             Butler  2433333.0            NaN        NaN  \n",
      "454                NaN   900000.0            NaN        NaN  \n",
      "455                NaN  2900000.0            NaN        NaN  \n",
      "456             Kansas   947276.0           84.0     213.36  \n",
      "457             Kansas   947276.0            NaN        NaN  \n",
      "\n",
      "[458 rows x 11 columns]\n"
     ]
    }
   ],
   "source": [
    "import numpy as np  # Import numpy to use np.nan\n",
    "\n",
    "def convert_height(height_str):\n",
    "    try:\n",
    "        feet, inches = height_str.split('-')\n",
    "        return int(feet) * 12 + int(inches)\n",
    "    except:\n",
    "        return np.nan  # Return NaN if the height is not in the correct format\n",
    "\n",
    "# Apply the function to the 'Height' column\n",
    "df['height_inches'] = df['Height'].apply(convert_height)\n",
    "\n",
    "# Convert height to cm\n",
    "df['height_cm'] = df['height_inches'] * 2.54\n",
    "\n",
    "# Display the dataframe\n",
    "print(df)\n"
   ]
  },
  {
   "cell_type": "code",
   "execution_count": 21,
   "id": "0017a61e-7648-4582-a93b-3b90739351cb",
   "metadata": {},
   "outputs": [],
   "source": [
    "# 1. Team Distribution Analysis\n",
    "def analyze_team_distribution():\n",
    "    team_dist = df['Team'].value_counts()\n",
    "    team_percentages = (team_dist / len(df) * 100).round(2)\n",
    "    \n",
    "    plt.figure(figsize=(15, 8))\n",
    "    team_percentages.plot(kind='bar')\n",
    "    plt.title('Distribution of Players Across Teams')\n",
    "    plt.xlabel('Team')\n",
    "    plt.ylabel('Percentage of Players')\n",
    "    plt.xticks(rotation=45, ha='right')\n",
    "    plt.tight_layout()\n",
    "    plt.show()\n",
    "    \n",
    "    return team_percentages\n"
   ]
  },
  {
   "cell_type": "code",
   "execution_count": 23,
   "id": "b99e48ea-d95d-4a2e-b2ad-0a9bd5716921",
   "metadata": {},
   "outputs": [],
   "source": [
    "# 2. Position Analysis\n",
    "def analyze_positions():\n",
    "    pos_dist = df['Position'].value_counts()\n",
    "    \n",
    "    plt.figure(figsize=(10, 6))\n",
    "    plt.pie(pos_dist, labels=pos_dist.index, autopct='%1.1f%%')\n",
    "    plt.title('Distribution of Player Positions')\n",
    "    plt.axis('equal')\n",
    "    plt.show()\n",
    "    \n",
    "    return pos_dist"
   ]
  },
  {
   "cell_type": "code",
   "execution_count": 25,
   "id": "9e9c3855-e72f-4672-84d2-a439cbff61c2",
   "metadata": {},
   "outputs": [],
   "source": [
    "# 3. Age Distribution Analysis\n",
    "def analyze_age_distribution():\n",
    "    plt.figure(figsize=(12, 6))\n",
    "    sns.histplot(data=df, x='Age', bins=20)\n",
    "    plt.title('Age Distribution of Players')\n",
    "    plt.xlabel('Age')\n",
    "    plt.ylabel('Count')\n",
    "    plt.show()\n",
    "    \n",
    "    age_stats = df['Age'].describe()\n",
    "    return age_stats"
   ]
  },
  {
   "cell_type": "code",
   "execution_count": 27,
   "id": "4dc105fe-e54e-42a4-99ce-e45ec09d32cf",
   "metadata": {},
   "outputs": [],
   "source": [
    "# 4. Salary Analysis by Team and Position\n",
    "def analyze_salary_distribution():\n",
    "    # Team salary analysis\n",
    "    team_salary = df.groupby('Team')['Salary'].sum().sort_values(ascending=False)\n",
    "    \n",
    "    # Position salary analysis\n",
    "    pos_salary = df"
   ]
  },
  {
   "cell_type": "code",
   "execution_count": null,
   "id": "00a32531-3d68-4c0c-9118-615465534764",
   "metadata": {},
   "outputs": [],
   "source": []
  }
 ],
 "metadata": {
  "kernelspec": {
   "display_name": "Python 3 (ipykernel)",
   "language": "python",
   "name": "python3"
  },
  "language_info": {
   "codemirror_mode": {
    "name": "ipython",
    "version": 3
   },
   "file_extension": ".py",
   "mimetype": "text/x-python",
   "name": "python",
   "nbconvert_exporter": "python",
   "pygments_lexer": "ipython3",
   "version": "3.12.7"
  }
 },
 "nbformat": 4,
 "nbformat_minor": 5
}
